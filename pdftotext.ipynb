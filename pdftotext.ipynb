{
  "nbformat": 4,
  "nbformat_minor": 0,
  "metadata": {
    "colab": {
      "provenance": []
    },
    "kernelspec": {
      "name": "python3",
      "display_name": "Python 3"
    },
    "language_info": {
      "name": "python"
    }
  },
  "cells": [
    {
      "cell_type": "code",
      "source": [
        "pip install pdf2image"
      ],
      "metadata": {
        "colab": {
          "base_uri": "https://localhost:8080/"
        },
        "id": "ZE53qZtxxx1b",
        "outputId": "99389361-c445-4b9b-cf44-315021516a0f"
      },
      "execution_count": null,
      "outputs": [
        {
          "output_type": "stream",
          "name": "stdout",
          "text": [
            "Collecting pdf2image\n",
            "  Downloading pdf2image-1.16.3-py3-none-any.whl (11 kB)\n",
            "Requirement already satisfied: pillow in /usr/local/lib/python3.10/dist-packages (from pdf2image) (9.4.0)\n",
            "Installing collected packages: pdf2image\n",
            "Successfully installed pdf2image-1.16.3\n"
          ]
        }
      ]
    },
    {
      "cell_type": "code",
      "source": [
        "import os\n",
        "from google.colab import drive\n",
        "drive.mount('/content/drive/', force_remount=True)\n",
        "os.chdir(\"/content/drive/My Drive/reports\")"
      ],
      "metadata": {
        "id": "2z9_OJJC1c1X"
      },
      "execution_count": null,
      "outputs": []
    },
    {
      "cell_type": "code",
      "source": [
        "import PyPDF2\n",
        "import os\n",
        "from pdf2image import convert_from_path"
      ],
      "metadata": {
        "id": "CC1y8yiSx5ki"
      },
      "execution_count": null,
      "outputs": []
    },
    {
      "cell_type": "code",
      "source": [
        "pdf_folder_path = \"/content/drive/My Drive/reports/\""
      ],
      "metadata": {
        "id": "YWT3NFQdBe7-"
      },
      "execution_count": null,
      "outputs": []
    },
    {
      "cell_type": "code",
      "source": [
        "output_file_path = \"/content/drive/My Drive/output.txt\""
      ],
      "metadata": {
        "id": "L0WAOzkiBiOo"
      },
      "execution_count": null,
      "outputs": []
    },
    {
      "cell_type": "code",
      "source": [
        "text_list = []"
      ],
      "metadata": {
        "id": "yep4Tn_FBpGA"
      },
      "execution_count": null,
      "outputs": []
    },
    {
      "cell_type": "code",
      "source": [
        "# Loop through each PDF file in the folder\n",
        "for filename in os.listdir(pdf_folder_path):\n",
        "    if filename.endswith(\".pdf\"):\n",
        "        # Convert the PDF to an image using pdf2image\n",
        "        images = convert_from_path(os.path.join(pdf_folder_path, filename))\n",
        "\n",
        "        # Loop through each image and extract the text using OCR\n",
        "        for image in images:\n",
        "            text = pytesseract.image_to_string(image)\n",
        "            text_list.append(text)"
      ],
      "metadata": {
        "id": "kCgFzjA7BqHO"
      },
      "execution_count": null,
      "outputs": []
    },
    {
      "cell_type": "code",
      "source": [
        "# Join the text from all files into one string\n",
        "output_text = \"\\n\".join(text_list)"
      ],
      "metadata": {
        "id": "OjgfdlyMCqYJ"
      },
      "execution_count": null,
      "outputs": []
    },
    {
      "cell_type": "code",
      "source": [
        "# Save the text to the output file\n",
        "with open(output_file_path, \"w\") as f:\n",
        "    f.write(output_text)"
      ],
      "metadata": {
        "id": "ZVgfQq7KCw6P"
      },
      "execution_count": null,
      "outputs": []
    }
  ]
}